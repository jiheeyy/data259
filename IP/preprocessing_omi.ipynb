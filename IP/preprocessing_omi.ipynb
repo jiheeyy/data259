{
 "cells": [
  {
   "cell_type": "code",
   "execution_count": 2,
   "metadata": {},
   "outputs": [],
   "source": [
    "import pandas as pd\n",
    "\n",
    "from sklearn import datasets, linear_model, preprocessing\n",
    "from sklearn.metrics import mean_squared_error, r2_score\n",
    "scaler = preprocessing.StandardScaler()\n",
    "\n",
    "from matplotlib import pyplot as plt\n",
    "\n",
    "import math\n",
    "\n",
    "import cv2\n",
    "import numpy as np\n",
    "import imutils\n",
    "import dlib\n",
    "from imutils import face_utils\n",
    "from numpy import savetxt"
   ]
  },
  {
   "cell_type": "code",
   "execution_count": 3,
   "metadata": {},
   "outputs": [],
   "source": [
    "# Training based on random 1000 images"
   ]
  },
  {
   "cell_type": "code",
   "execution_count": 34,
   "metadata": {},
   "outputs": [
    {
     "data": {
      "text/plain": [
       "Index(['stimulus', 'trustworthy', 'attractive', 'dominant', 'smart', 'age',\n",
       "       'gender', 'weight', 'typical', 'happy', 'familiar', 'outgoing',\n",
       "       'memorable', 'well-groomed', 'long-haired', 'smug', 'dorky',\n",
       "       'skin-color', 'hair-color', 'alert', 'cute', 'privileged', 'liberal',\n",
       "       'asian', 'middle-eastern', 'hispanic', 'islander', 'native', 'black',\n",
       "       'white', 'looks-like-you', 'gay', 'electable', 'godly', 'outdoors'],\n",
       "      dtype='object')"
      ]
     },
     "execution_count": 34,
     "metadata": {},
     "output_type": "execute_result"
    }
   ],
   "source": [
    "attribute_means = pd.read_csv(\"attribute_means.csv\")\n",
    "attribute_means.columns"
   ]
  },
  {
   "cell_type": "code",
   "execution_count": 5,
   "metadata": {},
   "outputs": [],
   "source": [
    "import os\n",
    "import random\n",
    "import pandas as pd\n",
    "import shutil\n",
    "sampled_df = attribute_means.sample(n=100, replace=False)"
   ]
  },
  {
   "cell_type": "code",
   "execution_count": 36,
   "metadata": {},
   "outputs": [
    {
     "data": {
      "text/plain": [
       "<AxesSubplot:>"
      ]
     },
     "execution_count": 36,
     "metadata": {},
     "output_type": "execute_result"
    },
    {
     "data": {
      "image/png": "[encoded data removed]",
      "text/plain": [
       "<Figure size 432x288 with 1 Axes>"
      ]
     },
     "metadata": {
      "needs_background": "light"
     },
     "output_type": "display_data"
    }
   ],
   "source": [
    "attribute_means['happy'].hist()"
   ]
  },
  {
   "cell_type": "code",
   "execution_count": 38,
   "metadata": {},
   "outputs": [],
   "source": [
    "global_m = attribute_means['happy'].median()"
   ]
  },
  {
   "cell_type": "code",
   "execution_count": 16,
   "metadata": {},
   "outputs": [],
   "source": [
    "new_folder_path = 'random100/'  # Replace 'path/to/new_folder' with the desired path for the new folder\n",
    "os.makedirs(new_folder_path, exist_ok=True)"
   ]
  },
  {
   "cell_type": "code",
   "execution_count": 12,
   "metadata": {},
   "outputs": [
    {
     "data": {
      "text/html": [
       "<div>\n",
       "<style scoped>\n",
       "    .dataframe tbody tr th:only-of-type {\n",
       "        vertical-align: middle;\n",
       "    }\n",
       "\n",
       "    .dataframe tbody tr th {\n",
       "        vertical-align: top;\n",
       "    }\n",
       "\n",
       "    .dataframe thead th {\n",
       "        text-align: right;\n",
       "    }\n",
       "</style>\n",
       "<table border=\"1\" class=\"dataframe\">\n",
       "  <thead>\n",
       "    <tr style=\"text-align: right;\">\n",
       "      <th></th>\n",
       "      <th>stimulus</th>\n",
       "      <th>trustworthy</th>\n",
       "      <th>attractive</th>\n",
       "      <th>dominant</th>\n",
       "      <th>smart</th>\n",
       "      <th>age</th>\n",
       "      <th>gender</th>\n",
       "      <th>weight</th>\n",
       "      <th>typical</th>\n",
       "      <th>happy</th>\n",
       "      <th>...</th>\n",
       "      <th>hispanic</th>\n",
       "      <th>islander</th>\n",
       "      <th>native</th>\n",
       "      <th>black</th>\n",
       "      <th>white</th>\n",
       "      <th>looks-like-you</th>\n",
       "      <th>gay</th>\n",
       "      <th>electable</th>\n",
       "      <th>godly</th>\n",
       "      <th>outdoors</th>\n",
       "    </tr>\n",
       "  </thead>\n",
       "  <tbody>\n",
       "    <tr>\n",
       "      <th>491</th>\n",
       "      <td>492</td>\n",
       "      <td>43.382022</td>\n",
       "      <td>52.538462</td>\n",
       "      <td>53.555556</td>\n",
       "      <td>55.894737</td>\n",
       "      <td>35.256410</td>\n",
       "      <td>76.238095</td>\n",
       "      <td>34.833333</td>\n",
       "      <td>72.027027</td>\n",
       "      <td>46.675676</td>\n",
       "      <td>...</td>\n",
       "      <td>46.351351</td>\n",
       "      <td>18.459459</td>\n",
       "      <td>28.526316</td>\n",
       "      <td>2.162162</td>\n",
       "      <td>75.864865</td>\n",
       "      <td>20.289474</td>\n",
       "      <td>52.921053</td>\n",
       "      <td>55.500000</td>\n",
       "      <td>51.756757</td>\n",
       "      <td>69.710526</td>\n",
       "    </tr>\n",
       "    <tr>\n",
       "      <th>975</th>\n",
       "      <td>976</td>\n",
       "      <td>54.911392</td>\n",
       "      <td>52.108108</td>\n",
       "      <td>55.358974</td>\n",
       "      <td>66.666667</td>\n",
       "      <td>33.760870</td>\n",
       "      <td>77.117647</td>\n",
       "      <td>32.648649</td>\n",
       "      <td>59.513514</td>\n",
       "      <td>35.945946</td>\n",
       "      <td>...</td>\n",
       "      <td>39.054054</td>\n",
       "      <td>46.775000</td>\n",
       "      <td>40.305556</td>\n",
       "      <td>8.405405</td>\n",
       "      <td>41.323529</td>\n",
       "      <td>21.500000</td>\n",
       "      <td>45.800000</td>\n",
       "      <td>67.536585</td>\n",
       "      <td>47.950000</td>\n",
       "      <td>16.119048</td>\n",
       "    </tr>\n",
       "    <tr>\n",
       "      <th>19</th>\n",
       "      <td>20</td>\n",
       "      <td>56.516129</td>\n",
       "      <td>41.135135</td>\n",
       "      <td>50.526316</td>\n",
       "      <td>52.675676</td>\n",
       "      <td>25.750000</td>\n",
       "      <td>60.783784</td>\n",
       "      <td>52.263158</td>\n",
       "      <td>47.625000</td>\n",
       "      <td>67.810811</td>\n",
       "      <td>...</td>\n",
       "      <td>45.842105</td>\n",
       "      <td>44.906977</td>\n",
       "      <td>24.390625</td>\n",
       "      <td>90.525000</td>\n",
       "      <td>2.264706</td>\n",
       "      <td>7.288889</td>\n",
       "      <td>75.371429</td>\n",
       "      <td>43.916667</td>\n",
       "      <td>67.052632</td>\n",
       "      <td>9.650000</td>\n",
       "    </tr>\n",
       "    <tr>\n",
       "      <th>589</th>\n",
       "      <td>590</td>\n",
       "      <td>57.297619</td>\n",
       "      <td>33.083333</td>\n",
       "      <td>63.219512</td>\n",
       "      <td>61.888889</td>\n",
       "      <td>64.000000</td>\n",
       "      <td>83.424242</td>\n",
       "      <td>61.305556</td>\n",
       "      <td>63.081081</td>\n",
       "      <td>35.594595</td>\n",
       "      <td>...</td>\n",
       "      <td>25.552632</td>\n",
       "      <td>26.714286</td>\n",
       "      <td>17.605263</td>\n",
       "      <td>96.657143</td>\n",
       "      <td>1.842105</td>\n",
       "      <td>9.277778</td>\n",
       "      <td>24.636364</td>\n",
       "      <td>75.457143</td>\n",
       "      <td>80.405405</td>\n",
       "      <td>11.945946</td>\n",
       "    </tr>\n",
       "    <tr>\n",
       "      <th>466</th>\n",
       "      <td>467</td>\n",
       "      <td>61.987952</td>\n",
       "      <td>49.555556</td>\n",
       "      <td>46.111111</td>\n",
       "      <td>71.405405</td>\n",
       "      <td>43.051282</td>\n",
       "      <td>24.333333</td>\n",
       "      <td>63.264706</td>\n",
       "      <td>62.361111</td>\n",
       "      <td>48.900000</td>\n",
       "      <td>...</td>\n",
       "      <td>36.282051</td>\n",
       "      <td>65.918919</td>\n",
       "      <td>56.410256</td>\n",
       "      <td>5.439024</td>\n",
       "      <td>23.891892</td>\n",
       "      <td>17.228571</td>\n",
       "      <td>28.176471</td>\n",
       "      <td>69.717949</td>\n",
       "      <td>62.475000</td>\n",
       "      <td>7.833333</td>\n",
       "    </tr>\n",
       "    <tr>\n",
       "      <th>...</th>\n",
       "      <td>...</td>\n",
       "      <td>...</td>\n",
       "      <td>...</td>\n",
       "      <td>...</td>\n",
       "      <td>...</td>\n",
       "      <td>...</td>\n",
       "      <td>...</td>\n",
       "      <td>...</td>\n",
       "      <td>...</td>\n",
       "      <td>...</td>\n",
       "      <td>...</td>\n",
       "      <td>...</td>\n",
       "      <td>...</td>\n",
       "      <td>...</td>\n",
       "      <td>...</td>\n",
       "      <td>...</td>\n",
       "      <td>...</td>\n",
       "      <td>...</td>\n",
       "      <td>...</td>\n",
       "      <td>...</td>\n",
       "      <td>...</td>\n",
       "    </tr>\n",
       "    <tr>\n",
       "      <th>150</th>\n",
       "      <td>151</td>\n",
       "      <td>62.197531</td>\n",
       "      <td>42.500000</td>\n",
       "      <td>59.382353</td>\n",
       "      <td>58.975000</td>\n",
       "      <td>50.400000</td>\n",
       "      <td>88.444444</td>\n",
       "      <td>72.055556</td>\n",
       "      <td>72.805556</td>\n",
       "      <td>60.162162</td>\n",
       "      <td>...</td>\n",
       "      <td>27.681818</td>\n",
       "      <td>15.805556</td>\n",
       "      <td>11.000000</td>\n",
       "      <td>3.560976</td>\n",
       "      <td>91.780000</td>\n",
       "      <td>17.500000</td>\n",
       "      <td>27.512195</td>\n",
       "      <td>67.425000</td>\n",
       "      <td>69.687500</td>\n",
       "      <td>72.108108</td>\n",
       "    </tr>\n",
       "    <tr>\n",
       "      <th>492</th>\n",
       "      <td>493</td>\n",
       "      <td>68.425000</td>\n",
       "      <td>62.783784</td>\n",
       "      <td>25.750000</td>\n",
       "      <td>45.594595</td>\n",
       "      <td>6.744186</td>\n",
       "      <td>17.815789</td>\n",
       "      <td>46.833333</td>\n",
       "      <td>55.944444</td>\n",
       "      <td>18.073171</td>\n",
       "      <td>...</td>\n",
       "      <td>14.230769</td>\n",
       "      <td>6.323529</td>\n",
       "      <td>10.047619</td>\n",
       "      <td>0.722222</td>\n",
       "      <td>87.918919</td>\n",
       "      <td>11.147059</td>\n",
       "      <td>24.184211</td>\n",
       "      <td>2.282051</td>\n",
       "      <td>54.675676</td>\n",
       "      <td>59.121212</td>\n",
       "    </tr>\n",
       "    <tr>\n",
       "      <th>822</th>\n",
       "      <td>823</td>\n",
       "      <td>40.535714</td>\n",
       "      <td>59.621622</td>\n",
       "      <td>55.378378</td>\n",
       "      <td>56.864865</td>\n",
       "      <td>38.365854</td>\n",
       "      <td>81.081081</td>\n",
       "      <td>38.736842</td>\n",
       "      <td>54.256410</td>\n",
       "      <td>55.057143</td>\n",
       "      <td>...</td>\n",
       "      <td>68.000000</td>\n",
       "      <td>32.789474</td>\n",
       "      <td>28.707317</td>\n",
       "      <td>9.189189</td>\n",
       "      <td>58.729730</td>\n",
       "      <td>24.108108</td>\n",
       "      <td>40.484848</td>\n",
       "      <td>65.783784</td>\n",
       "      <td>49.472222</td>\n",
       "      <td>12.060606</td>\n",
       "    </tr>\n",
       "    <tr>\n",
       "      <th>753</th>\n",
       "      <td>754</td>\n",
       "      <td>43.102564</td>\n",
       "      <td>53.857143</td>\n",
       "      <td>56.942857</td>\n",
       "      <td>48.432432</td>\n",
       "      <td>31.938776</td>\n",
       "      <td>17.925000</td>\n",
       "      <td>54.540541</td>\n",
       "      <td>57.090909</td>\n",
       "      <td>26.461538</td>\n",
       "      <td>...</td>\n",
       "      <td>59.777778</td>\n",
       "      <td>29.552632</td>\n",
       "      <td>28.727273</td>\n",
       "      <td>12.588235</td>\n",
       "      <td>51.200000</td>\n",
       "      <td>23.705882</td>\n",
       "      <td>20.780488</td>\n",
       "      <td>49.121951</td>\n",
       "      <td>57.057143</td>\n",
       "      <td>47.200000</td>\n",
       "    </tr>\n",
       "    <tr>\n",
       "      <th>742</th>\n",
       "      <td>743</td>\n",
       "      <td>40.315217</td>\n",
       "      <td>41.000000</td>\n",
       "      <td>64.944444</td>\n",
       "      <td>47.027778</td>\n",
       "      <td>36.500000</td>\n",
       "      <td>88.342857</td>\n",
       "      <td>63.058824</td>\n",
       "      <td>59.771429</td>\n",
       "      <td>27.441176</td>\n",
       "      <td>...</td>\n",
       "      <td>8.075000</td>\n",
       "      <td>3.027778</td>\n",
       "      <td>8.176471</td>\n",
       "      <td>2.842105</td>\n",
       "      <td>94.342105</td>\n",
       "      <td>17.676471</td>\n",
       "      <td>26.625000</td>\n",
       "      <td>44.875000</td>\n",
       "      <td>39.475000</td>\n",
       "      <td>68.657895</td>\n",
       "    </tr>\n",
       "  </tbody>\n",
       "</table>\n",
       "<p>100 rows × 35 columns</p>\n",
       "</div>"
      ],
      "text/plain": [
       "     stimulus  trustworthy  attractive   dominant      smart        age  \\\n",
       "491       492    43.382022   52.538462  53.555556  55.894737  35.256410   \n",
       "975       976    54.911392   52.108108  55.358974  66.666667  33.760870   \n",
       "19         20    56.516129   41.135135  50.526316  52.675676  25.750000   \n",
       "589       590    57.297619   33.083333  63.219512  61.888889  64.000000   \n",
       "466       467    61.987952   49.555556  46.111111  71.405405  43.051282   \n",
       "..        ...          ...         ...        ...        ...        ...   \n",
       "150       151    62.197531   42.500000  59.382353  58.975000  50.400000   \n",
       "492       493    68.425000   62.783784  25.750000  45.594595   6.744186   \n",
       "822       823    40.535714   59.621622  55.378378  56.864865  38.365854   \n",
       "753       754    43.102564   53.857143  56.942857  48.432432  31.938776   \n",
       "742       743    40.315217   41.000000  64.944444  47.027778  36.500000   \n",
       "\n",
       "        gender     weight    typical      happy  ...   hispanic   islander  \\\n",
       "491  76.238095  34.833333  72.027027  46.675676  ...  46.351351  18.459459   \n",
       "975  77.117647  32.648649  59.513514  35.945946  ...  39.054054  46.775000   \n",
       "19   60.783784  52.263158  47.625000  67.810811  ...  45.842105  44.906977   \n",
       "589  83.424242  61.305556  63.081081  35.594595  ...  25.552632  26.714286   \n",
       "466  24.333333  63.264706  62.361111  48.900000  ...  36.282051  65.918919   \n",
       "..         ...        ...        ...        ...  ...        ...        ...   \n",
       "150  88.444444  72.055556  72.805556  60.162162  ...  27.681818  15.805556   \n",
       "492  17.815789  46.833333  55.944444  18.073171  ...  14.230769   6.323529   \n",
       "822  81.081081  38.736842  54.256410  55.057143  ...  68.000000  32.789474   \n",
       "753  17.925000  54.540541  57.090909  26.461538  ...  59.777778  29.552632   \n",
       "742  88.342857  63.058824  59.771429  27.441176  ...   8.075000   3.027778   \n",
       "\n",
       "        native      black      white  looks-like-you        gay  electable  \\\n",
       "491  28.526316   2.162162  75.864865       20.289474  52.921053  55.500000   \n",
       "975  40.305556   8.405405  41.323529       21.500000  45.800000  67.536585   \n",
       "19   24.390625  90.525000   2.264706        7.288889  75.371429  43.916667   \n",
       "589  17.605263  96.657143   1.842105        9.277778  24.636364  75.457143   \n",
       "466  56.410256   5.439024  23.891892       17.228571  28.176471  69.717949   \n",
       "..         ...        ...        ...             ...        ...        ...   \n",
       "150  11.000000   3.560976  91.780000       17.500000  27.512195  67.425000   \n",
       "492  10.047619   0.722222  87.918919       11.147059  24.184211   2.282051   \n",
       "822  28.707317   9.189189  58.729730       24.108108  40.484848  65.783784   \n",
       "753  28.727273  12.588235  51.200000       23.705882  20.780488  49.121951   \n",
       "742   8.176471   2.842105  94.342105       17.676471  26.625000  44.875000   \n",
       "\n",
       "         godly   outdoors  \n",
       "491  51.756757  69.710526  \n",
       "975  47.950000  16.119048  \n",
       "19   67.052632   9.650000  \n",
       "589  80.405405  11.945946  \n",
       "466  62.475000   7.833333  \n",
       "..         ...        ...  \n",
       "150  69.687500  72.108108  \n",
       "492  54.675676  59.121212  \n",
       "822  49.472222  12.060606  \n",
       "753  57.057143  47.200000  \n",
       "742  39.475000  68.657895  \n",
       "\n",
       "[100 rows x 35 columns]"
      ]
     },
     "execution_count": 12,
     "metadata": {},
     "output_type": "execute_result"
    }
   ],
   "source": [
    "sampled_df"
   ]
  },
  {
   "cell_type": "code",
   "execution_count": 19,
   "metadata": {},
   "outputs": [],
   "source": [
    "for index, row in sampled_df.iterrows():\n",
    "    image_filename = str(int(row['stimulus'])) + '.jpg'  # Replace 'image_filename_column' with the actual column name containing the image filenames\n",
    "    image_source_path = os.path.join('todorov_images/', image_filename)  # Assuming the original images are in the 'todorov_images' folder\n",
    "    image_destination_path = os.path.join(new_folder_path, image_filename)\n",
    "    shutil.copy(image_source_path, image_destination_path)"
   ]
  },
  {
   "cell_type": "code",
   "execution_count": 28,
   "metadata": {},
   "outputs": [
    {
     "data": {
      "text/plain": [
       "<AxesSubplot:>"
      ]
     },
     "execution_count": 28,
     "metadata": {},
     "output_type": "execute_result"
    },
    {
     "data": {
      "image/png": "[encoded data removed]",
      "text/plain": [
       "<Figure size 432x288 with 1 Axes>"
      ]
     },
     "metadata": {
      "needs_background": "light"
     },
     "output_type": "display_data"
    }
   ],
   "source": [
    "sampled_df['age'].hist(bins=np.arange(100))"
   ]
  },
  {
   "cell_type": "code",
   "execution_count": 48,
   "metadata": {},
   "outputs": [],
   "source": [
    "young_y = (sampled_df['happy'].values>=global_m).astype(int)\n",
    "np.save('young_y.npy',young_y)"
   ]
  },
  {
   "cell_type": "code",
   "execution_count": 47,
   "metadata": {},
   "outputs": [
    {
     "data": {
      "text/plain": [
       "44"
      ]
     },
     "execution_count": 47,
     "metadata": {},
     "output_type": "execute_result"
    }
   ],
   "source": [
    "young_y.sum()"
   ]
  },
  {
   "cell_type": "code",
   "execution_count": 21,
   "metadata": {},
   "outputs": [],
   "source": [
    "new_folder_path = 'young100/'  # Replace 'path/to/new_folder' with the desired path for the new folder\n",
    "os.makedirs(new_folder_path, exist_ok=True)\n",
    "\n",
    "sorted_df = attribute_means.sort_values('age')\n",
    "selected_rows = sorted_df.head(100)\n",
    "\n",
    "for index, row in selected_rows.iterrows():\n",
    "    image_filename = str(int(row['stimulus'])) + '.jpg'  # Replace 'image_filename_column' with the actual column name containing the image filenames\n",
    "    image_source_path = os.path.join('todorov_images/', image_filename)  # Assuming the original images are in the 'todorov_images' folder\n",
    "    image_destination_path = os.path.join(new_folder_path, image_filename)\n",
    "    shutil.copy(image_source_path, image_destination_path)"
   ]
  },
  {
   "cell_type": "code",
   "execution_count": 49,
   "metadata": {},
   "outputs": [
    {
     "data": {
      "text/plain": [
       "array([0, 0, 0, 1, 0, 0, 0, 1, 1, 0, 0, 0, 1, 1, 0, 0, 0, 1, 1, 0, 1, 0,\n",
       "       0, 0, 1, 0, 0, 1, 0, 1, 1, 1, 1, 1, 0, 0, 1, 1, 0, 0, 0, 0, 1, 1,\n",
       "       1, 0, 1, 1, 1, 1, 1, 1, 1, 0, 1, 0, 0, 0, 1, 1, 1, 0, 1, 1, 0, 1,\n",
       "       0, 1, 1, 0, 1, 1, 1, 0, 0, 1, 1, 1, 1, 1, 0, 1, 0, 1, 0, 1, 1, 0,\n",
       "       1, 1, 1, 0, 1, 1, 0, 1, 1, 0, 1, 0])"
      ]
     },
     "execution_count": 49,
     "metadata": {},
     "output_type": "execute_result"
    }
   ],
   "source": [
    "random_y = (selected_rows['happy'].values>=global_m).astype(int)\n",
    "np.save('random_y.npy',random_y)\n",
    "random_y."
   ]
  },
  {
   "cell_type": "code",
   "execution_count": 25,
   "metadata": {},
   "outputs": [
    {
     "data": {
      "text/plain": [
       "<AxesSubplot:>"
      ]
     },
     "execution_count": 25,
     "metadata": {},
     "output_type": "execute_result"
    },
    {
     "data": {
      "image/png": "[encoded data removed]",
      "text/plain": [
       "<Figure size 432x288 with 1 Axes>"
      ]
     },
     "metadata": {
      "needs_background": "light"
     },
     "output_type": "display_data"
    }
   ],
   "source": [
    "selected_rows['age'].hist(bins=np.arange(100))"
   ]
  }
 ],
 "metadata": {
  "kernelspec": {
   "display_name": "Python 3",
   "language": "python",
   "name": "python3"
  },
  "language_info": {
   "codemirror_mode": {
    "name": "ipython",
    "version": 3
   },
   "file_extension": ".py",
   "mimetype": "text/x-python",
   "name": "python",
   "nbconvert_exporter": "python",
   "pygments_lexer": "ipython3",
   "version": "3.8.8"
  }
 },
 "nbformat": 4,
 "nbformat_minor": 2
}
